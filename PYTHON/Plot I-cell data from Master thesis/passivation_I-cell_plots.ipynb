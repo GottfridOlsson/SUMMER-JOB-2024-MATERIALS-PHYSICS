{
 "cells": [
  {
   "cell_type": "markdown",
   "metadata": {},
   "source": [
    "##==================================================================##\n",
    "##        File: passivation_I-cell_plots.ipynb\n",
    "##      Author: GOTTFRID OLSSON \n",
    "##     Created: 2024-04-24\n",
    "##     Updated: 2024-06-11\n",
    "##       About: Plots passivation data for the I-cell.\n",
    "##==================================================================##"
   ]
  },
  {
   "cell_type": "code",
   "execution_count": 1,
   "metadata": {},
   "outputs": [],
   "source": [
    "# LIBRARIES #\n",
    "%matplotlib inline\n",
    "import matplotlib\n",
    "import numpy as np\n",
    "import CSV_handler as CSV\n",
    "import plot_functions as f\n",
    "import matplotlib.pyplot as plt\n",
    "import matplotlib.ticker as plticker\n",
    "from scipy.optimize import curve_fit\n",
    "#from mpl_toolkits.axes_grid1.inset_locator import inset_axes\n",
    "#from mpl_toolkits.axes_grid1.inset_locator import mark_inset \n"
   ]
  },
  {
   "cell_type": "code",
   "execution_count": 2,
   "metadata": {},
   "outputs": [
    {
     "name": "stdout",
     "output_type": "stream",
     "text": [
      "DONE: set_LaTeX_and_CMU: True\n"
     ]
    }
   ],
   "source": [
    "# PLOT SETTINGS #\n",
    "\n",
    "fig_width_cm  = 16 #assumes A4-paper with margins=2.5cm on both right and left side\n",
    "fig_height_cm = 9\n",
    "\n",
    "font_size_axis   = 13\n",
    "font_size_tick   = 11\n",
    "font_size_legend = 9\n",
    "\n",
    "grid_major = False\n",
    "grid_minor = False\n",
    "legend_on  = True\n",
    "\n",
    "f.set_LaTeX_and_CMU(True) #must run before plotting\n",
    "plt.rc('text.latex', preamble=r'\\usepackage{siunitx}')\n",
    "\n",
    "three_grayscale_colors = ['#000000', '#595959', '#B2B2B2'] # with 35%-point increase in \"value\" (in HSV) \n",
    "five_grayscale_colors  = ['#000000', '#333333', '#666666', '#999999', '#cccccc'] #with 30% saturation difference = good contrast\n",
    "four_grayscale_colors  = ['#000000', '#3F3F3F', '#7F7F7F', '#BFBFBF'] # with 25%-point increase in \"value\" (in HSV) \n",
    "markers      = ['^',    'o',    's',   'X',     'D',   '.']\n",
    "marker_sizes = [3.3,    3.3,    3.3,    3.6,    3,      3.3]\n",
    "\n",
    "standard_text_box_settings = dict(boxstyle='round', facecolor='white', alpha=1.0, edgecolor=five_grayscale_colors[4]) #edgecolor, facecolor, alpha as to match legend "
   ]
  },
  {
   "cell_type": "code",
   "execution_count": 67,
   "metadata": {},
   "outputs": [],
   "source": [
    "# FUNCTIONS #\n",
    "\n",
    "def shift_df_column_to_start_at_zero(df_column):\n",
    "    df_column_shift_value = df_column[0]\n",
    "    return df_column - df_column_shift_value\n",
    "\n",
    "\n",
    "def try_get_column_from_df(df, column_name_string):\n",
    "    try:\n",
    "        column = df.loc[:,column_name_string]\n",
    "    except:\n",
    "        print(\"EXCEPTION: No column with name {column_name_string} (instead returns value None).\")\n",
    "        column = None\n",
    "    return column\n",
    "\n",
    "\n",
    "def get_t_V_I_error_from_Biologic_file_root_path(root_path, shift_t_to_zero=False):\n",
    "    df = CSV.read(root_path, delimiter='\\t') #tab separated from Biologic\n",
    "\n",
    "    t = try_get_column_from_df(df, \"time/s\")\n",
    "    if shift_t_to_zero:\n",
    "        try:\n",
    "            t = shift_df_column_to_start_at_zero(t)\n",
    "        except:\n",
    "            print(\"EXCEPTION: Could not perform shift_df_column_to_start_at_zero().\")\n",
    "\n",
    "    V = try_get_column_from_df(df, \"Ewe/V\")\n",
    "    I = try_get_column_from_df(df, \"I/mA\")\n",
    "    e = try_get_column_from_df(df, \"error\")\n",
    "\n",
    "    return [t, V, I, e]\n",
    "    \n",
    "\n",
    "def calculate_deposited_amount_mAhcm2_from_t_I(t, I):\n",
    "    # assumes data in units 'time/s' and 'current/mA' as well as an electrode area of 0.196 cm2 (Li, 5 mm diameter)\n",
    "    A = 0.196       # cm2\n",
    "    t_hour = t/3600 # h (hour)\n",
    "    J = np.abs(I)/A # mA/cm2; abs to avoid negative capacity\n",
    "    C = J*t_hour    # mAh/cm2\n",
    "    return C    \n",
    "\n",
    "\n",
    "def get_current_date_and_time_as_ISO8601_string():\n",
    "    import datetime\n",
    "    date_and_time = datetime.datetime.now().strftime(\"%Y%m%dT%H%M%S\")\n",
    "    return date_and_time\n",
    "\n",
    "\n",
    "def ansats_passivationCurrent_vs_time(x, a):\n",
    "    # ansats is: y = a*x^b (y = current, x = time, a is a constant)\n",
    "    return a/x\n"
   ]
  },
  {
   "cell_type": "code",
   "execution_count": 68,
   "metadata": {},
   "outputs": [],
   "source": [
    "# Root paths #\n",
    "data_root_path = \"C:\\\\SUMMER-JOB-2024-MATERIALS-PHYSICS\\\\EXPERIMENTAL\\\\DATA\\\\Cycling data Master thesis\\\\\"\n",
    "I_cell_path = \"I-cell\\\\\"\n",
    "I_cell_root_path = data_root_path + I_cell_path\n",
    "\n",
    "#electrochemical_figures_export_root_path = 'C:\\\\MASTER-THESIS\\\\FIGURES\\\\Electrochemical-plots\\\\'"
   ]
  },
  {
   "cell_type": "code",
   "execution_count": 69,
   "metadata": {},
   "outputs": [
    {
     "name": "stdout",
     "output_type": "stream",
     "text": [
      "DONE: Reading CSV: C:\\SUMMER-JOB-2024-MATERIALS-PHYSICS\\EXPERIMENTAL\\DATA\\Cycling data Master thesis\\I-cell\\2024-04-24_JP-measurements_sample-A4-01_M-cell_Cu-Li-Cellgard2400-separator_25muL-LiFSI-in-DME_outside-glovebox_sigma-0.02_added-OCV-0.1s_Deltax110.4mm_02_MB_C11.txt\n",
      "DONE: Reading CSV: C:\\SUMMER-JOB-2024-MATERIALS-PHYSICS\\EXPERIMENTAL\\DATA\\Cycling data Master thesis\\I-cell\\2024-04-25_JP_sample-A4-02-extra_M-cell_Cu-Li-Cellgard2400-separator_25muL-LiFSI-in-DME_outside-glovebox_sigma-0.02_low-OCV_Deltax110.2mm_02_MB_C11.txt\n",
      "DONE: Reading CSV: C:\\SUMMER-JOB-2024-MATERIALS-PHYSICS\\EXPERIMENTAL\\DATA\\Cycling data Master thesis\\I-cell\\2024-04-24_JP-measurements_sample-A5-01_M-cell_Cu-Li-Cellgard2400-separator_25muL-LiFSI-in-DME_outside-glovebox_sigma-0.02_added-OCV-0.1s_Deltax110.3mm_02_MB_C10.txt\n",
      "DONE: Reading CSV: C:\\SUMMER-JOB-2024-MATERIALS-PHYSICS\\EXPERIMENTAL\\DATA\\Cycling data Master thesis\\I-cell\\2024-04-29_JP-measurements_sample-A5.5-01_M-cell_Cu-Li-Cellgard2400-separator_25muL-LiFSI-in-DME_outside-glovebox_sigma-0.02_added-OCV-0.1s_Deltax109.9mm_02_MB_C03.txt\n",
      "DONE: Reading CSV: C:\\SUMMER-JOB-2024-MATERIALS-PHYSICS\\EXPERIMENTAL\\DATA\\Cycling data Master thesis\\I-cell\\2024-04-24_JP-measurements_sample-A6-01_M-cell_Cu-Li-Cellgard2400-separator_25muL-LiFSI-in-DME_outside-glovebox_sigma-0.02_added-OCV-0.1s_Deltax110.3mm_02_MB_C11.txt\n",
      "DONE: Reading CSV: C:\\SUMMER-JOB-2024-MATERIALS-PHYSICS\\EXPERIMENTAL\\DATA\\Cycling data Master thesis\\I-cell\\2024-04-26_JP-measurements_sample-A6-02_M-cell_Cu-Li-Cellgard2400-separator_25muL-LiFSI-in-DME_outside-glovebox_sigma-0.02_added-OCV-0.1s_Deltax110.1mm_02_MB_C02.txt\n",
      "DONE: Reading CSV: C:\\SUMMER-JOB-2024-MATERIALS-PHYSICS\\EXPERIMENTAL\\DATA\\Cycling data Master thesis\\I-cell\\2024-04-26_JP-measurements_sample-A6-03_M-cell_Cu-Li-Cellgard2400-separator_25muL-LiFSI-in-DME_outside-glovebox_sigma-0.002_added-OCV-0.1s_Deltax110.2mm_02_MB_C01.txt\n",
      "DONE: Reading CSV: C:\\SUMMER-JOB-2024-MATERIALS-PHYSICS\\EXPERIMENTAL\\DATA\\month-old_I-cell_passivation\\2024-06-11_Exploration-measurement-moth-old-I-cells\\2024-06-11_month-old-I-cell_built-2024-05-16-old-OCV-2.2V_deltaX-110.0mm_02_MB_C04.txt\n",
      "DONE: Reading CSV: C:\\SUMMER-JOB-2024-MATERIALS-PHYSICS\\EXPERIMENTAL\\DATA\\month-old_I-cell_passivation\\2024-06-11_Exploration-measurement-moth-old-I-cells\\2024-06-11_month-old-I-cell_built-2024-05-16-old-OCV-2.5V_deltaX-110.3mm_02_MB_C02.txt\n"
     ]
    }
   ],
   "source": [
    "# Paths for I-cell passivation data #\n",
    "\n",
    "# each file has columns:  time/s\tEwe/V\tI/mA\terror\t\n",
    "A4_01_20240424  = I_cell_root_path + \"2024-04-24_JP-measurements_sample-A4-01_M-cell_Cu-Li-Cellgard2400-separator_25muL-LiFSI-in-DME_outside-glovebox_sigma-0.02_added-OCV-0.1s_Deltax110.4mm_02_MB_C11.txt\"\n",
    "A4_02_20240425  = I_cell_root_path + \"2024-04-25_JP_sample-A4-02-extra_M-cell_Cu-Li-Cellgard2400-separator_25muL-LiFSI-in-DME_outside-glovebox_sigma-0.02_low-OCV_Deltax110.2mm_02_MB_C11.txt\"\n",
    "A5_01_20240424  = I_cell_root_path + \"2024-04-24_JP-measurements_sample-A5-01_M-cell_Cu-Li-Cellgard2400-separator_25muL-LiFSI-in-DME_outside-glovebox_sigma-0.02_added-OCV-0.1s_Deltax110.3mm_02_MB_C10.txt\"\n",
    "A55_01_20240424 = I_cell_root_path + \"2024-04-29_JP-measurements_sample-A5.5-01_M-cell_Cu-Li-Cellgard2400-separator_25muL-LiFSI-in-DME_outside-glovebox_sigma-0.02_added-OCV-0.1s_Deltax109.9mm_02_MB_C03.txt\"\n",
    "A6_01_20240424  = I_cell_root_path + \"2024-04-24_JP-measurements_sample-A6-01_M-cell_Cu-Li-Cellgard2400-separator_25muL-LiFSI-in-DME_outside-glovebox_sigma-0.02_added-OCV-0.1s_Deltax110.3mm_02_MB_C11.txt\"\n",
    "A6_02_20240426  = I_cell_root_path + \"2024-04-26_JP-measurements_sample-A6-02_M-cell_Cu-Li-Cellgard2400-separator_25muL-LiFSI-in-DME_outside-glovebox_sigma-0.02_added-OCV-0.1s_Deltax110.1mm_02_MB_C02.txt\"\n",
    "A6_03_20240426  = I_cell_root_path + \"2024-04-26_JP-measurements_sample-A6-03_M-cell_Cu-Li-Cellgard2400-separator_25muL-LiFSI-in-DME_outside-glovebox_sigma-0.002_added-OCV-0.1s_Deltax110.2mm_02_MB_C01.txt\"\n",
    "# these were built 2024-05-26 and have rested in a plastic bag (each) until 2024-06-11 when they were passivated and deposited onto\n",
    "month_old_01_A5 = \"C:\\\\SUMMER-JOB-2024-MATERIALS-PHYSICS\\\\EXPERIMENTAL\\\\DATA\\\\month-old_I-cell_passivation\\\\2024-06-11_Exploration-measurement-moth-old-I-cells\\\\\" + \"2024-06-11_month-old-I-cell_built-2024-05-16-old-OCV-2.2V_deltaX-110.0mm_02_MB_C04.txt\"\n",
    "month_old_02_A5 = \"C:\\\\SUMMER-JOB-2024-MATERIALS-PHYSICS\\\\EXPERIMENTAL\\\\DATA\\\\month-old_I-cell_passivation\\\\2024-06-11_Exploration-measurement-moth-old-I-cells\\\\\" + \"2024-06-11_month-old-I-cell_built-2024-05-16-old-OCV-2.5V_deltaX-110.3mm_02_MB_C02.txt\"\n",
    "\n",
    "\n",
    "A4_01   = get_t_V_I_error_from_Biologic_file_root_path(A4_01_20240424,  shift_t_to_zero=True)\n",
    "A4_02   = get_t_V_I_error_from_Biologic_file_root_path(A4_02_20240425,  shift_t_to_zero=True)\n",
    "A5_01   = get_t_V_I_error_from_Biologic_file_root_path(A5_01_20240424,  shift_t_to_zero=True)\n",
    "A55_01  = get_t_V_I_error_from_Biologic_file_root_path(A55_01_20240424, shift_t_to_zero=True)\n",
    "A6_01   = get_t_V_I_error_from_Biologic_file_root_path(A6_01_20240424,  shift_t_to_zero=True)\n",
    "A6_02   = get_t_V_I_error_from_Biologic_file_root_path(A6_02_20240426,  shift_t_to_zero=True)\n",
    "A6_03   = get_t_V_I_error_from_Biologic_file_root_path(A6_03_20240426,  shift_t_to_zero=True)\n",
    "month_old_01 = get_t_V_I_error_from_Biologic_file_root_path(month_old_01_A5,  shift_t_to_zero=True)\n",
    "month_old_02 = get_t_V_I_error_from_Biologic_file_root_path(month_old_02_A5,  shift_t_to_zero=True)"
   ]
  },
  {
   "cell_type": "code",
   "execution_count": 87,
   "metadata": {},
   "outputs": [
    {
     "name": "stdout",
     "output_type": "stream",
     "text": [
      "[19.01675998]\n"
     ]
    }
   ],
   "source": [
    "x_data_to_fit = month_old_02[0][1:-1]/60 # /60 to go from second to minute\n",
    "y_data_to_fit = np.abs(month_old_02[2][1:-1]*1000) #*1000 to go from mA to muA\n",
    "\n",
    "fitted_parameters, _ = curve_fit(ansats_passivationCurrent_vs_time, x_data_to_fit, y_data_to_fit)\n",
    "print(fitted_parameters)"
   ]
  },
  {
   "cell_type": "code",
   "execution_count": 100,
   "metadata": {},
   "outputs": [
    {
     "name": "stdout",
     "output_type": "stream",
     "text": [
      "Fit: y=a/x, where a=19.016759975415813\n",
      "DONE: set_font_size: (axis, tick, legend): 13, 11, 9\n",
      "DONE: set_axis_scale: X: log, Y: log on axs: None\n",
      "DONE: set_axis_labels: on axs: None\n",
      "DONE: set_axis_invert: x: False, y: False on axs: None\n",
      "DONE: set_legend: (on, alpha, location): True, 1.0, best, on axs: None\n",
      "DONE: align_labels\n",
      "DONE: set_layout_tight\n",
      "DONE: set_title to: Passivation of Cu in the I-cell\n",
      "DONE: export_figure_as_pdf: C:\\SUMMER-JOB-2024-MATERIALS-PHYSICS\\PYTHON\\Plot I-cell data from Master thesis\\Plots\\I-cell_passivatoin-curves_20240612T093338.pdf\n"
     ]
    },
    {
     "data": {
      "image/png": "[encoded data removed]",
      "text/plain": [
       "<Figure size 629.921x354.331 with 1 Axes>"
      ]
     },
     "metadata": {},
     "output_type": "display_data"
    }
   ],
   "source": [
    "# PLOT PASSIVATION: I vs. t (I-cells) #\n",
    "# Create figure on which axis lives, one axis per subplot\n",
    "fig, axs = plt.subplots(nrows=1, ncols=1, figsize=(fig_width_cm/2.54, fig_height_cm/2.54), sharex=False, sharey=False)\n",
    "\n",
    "current_multiplier = 1000 # mA-->muA in plot\n",
    "time_divider = 60 # s --> minute in plot\n",
    "# Plot data (axs.plot, .errorbar, .hist, ...) # SEIDEP_sigma_x_MB = [t, V, I, error]\n",
    "axs.plot( A4_01[0][1:-1]/time_divider,   np.abs(A4_01[2][1:-1]*current_multiplier), linewidth=1.2, linestyle='-', label='A4-01',  marker='.',  markersize=3)#, color=five_grayscale_colors[0])#, marker=markers[-1], markersize=marker_sizes[-1])#, label='$\\\\sigma=0.05$')\n",
    "axs.plot( A4_02[0][1:-1]/time_divider,   np.abs(A4_02[2][1:-1]*current_multiplier), linewidth=1, linestyle='-', label='A4-02',  marker='o', markersize=3)#, color=five_grayscale_colors[1])#, marker=markers[-1], markersize=marker_sizes[-1])#, label='$\\\\sigma=0.05$')\n",
    "axs.plot( A5_01[0][1:-1]/time_divider,   np.abs(A5_01[2][1:-1]*current_multiplier), linewidth=1, linestyle='-', label='A5-01',  marker='s', markersize=3)#, color=five_grayscale_colors[2])#, marker=markers[-1], markersize=marker_sizes[-1])#, label='$\\\\sigma=0.05$')\n",
    "axs.plot(A55_01[0][1:-1]/time_divider,  np.abs(A55_01[2][1:-1]*current_multiplier), linewidth=1, linestyle='-', label='A55-01', marker='d', markersize=3)#, color=five_grayscale_colors[3])#, marker=markers[-1], markersize=marker_sizes[-1])#, label='$\\\\sigma=0.05$')\n",
    "#axs.plot( A6_01[0][1:-1],   np.abs(A6_01[2][1:-1]*current_multiplier), linewidth=1, linestyle='-', label='A6-01',  marker='^', markersize=3)#, color=five_grayscale_colors[4])#, marker=markers[-1], markersize=marker_sizes[-1])#, label='$\\\\sigma=0.05$')\n",
    "#axs.plot( A6_02[0][1:-1],   np.abs(A6_02[2][1:-1]*current_multiplier), linewidth=1, linestyle='-', label='A6-02',  marker='.', markersize=3)#, color=five_grayscale_colors[0])#, marker=markers[-1], markersize=marker_sizes[-1])#, label='$\\\\sigma=0.05$')\n",
    "axs.plot( A6_03[0][1:-1]/time_divider,   np.abs(A6_03[2][1:-1]*current_multiplier), linewidth=1, linestyle='-', label='A6-03',  marker='h', markersize=3)#, color=five_grayscale_colors[0])#, marker=markers[-1], markersize=marker_sizes[-1])#, label='$\\\\sigma=0.05$')\n",
    "axs.plot( month_old_01[0][1:-1]/time_divider,np.abs(month_old_01[2][1:-1]*current_multiplier), linewidth=1, linestyle='-', label='old-01',  marker='v', markersize=3)#, color=five_grayscale_colors[0])#, marker=markers[-1], markersize=marker_sizes[-1])#, label='$\\\\sigma=0.05$')\n",
    "axs.plot( month_old_02[0][1:-1]/time_divider,np.abs(month_old_02[2][1:-1]*current_multiplier), linewidth=1, linestyle='-', label='old-02',  marker='*', markersize=4)#, color=five_grayscale_colors[0])#, marker=markers[-1], markersize=marker_sizes[-1])#, label='$\\\\sigma=0.05$')\n",
    "x_linspace = np.linspace(0.1/60, 10000/60)\n",
    "y_fit = ansats_passivationCurrent_vs_time(x_linspace, 30)#, fitted_parameters[1])\n",
    "axs.plot(x_linspace, y_fit, linewidth=4, linestyle=':', label='fit', color='k')\n",
    "print(f\"Fit: y=a/x, where a={fitted_parameters[0]}\")#, b={fitted_parameters[1]}\")\n",
    "\n",
    "\n",
    "# Settings for each axis (axs)\n",
    "f.set_font_size(axis=font_size_axis, tick=font_size_tick, legend=font_size_legend)\n",
    "f.set_axis_scale(   axs, xScale_string='log', yScale_string='log')\n",
    "f.set_axis_labels(  axs, x_label='Time / min', y_label='Current / \\\\textmu A')\n",
    "f.set_axis_invert(  axs, x_invert=False, y_invert=False)\n",
    "#f.set_axis_limits(  axs, xmin=0.06, xmax=3*10000, ymin=1*0.1, ymax=3*10000)\n",
    "#f.set_axis_limits(  axs, xmin=0.01, xmax=10, ymin=1*0.1, ymax=3*10000)\n",
    "\n",
    "#f.set_grid(         axs, grid_major_on=grid_major, grid_major_linewidth=0.7, grid_minor_on=grid_minor, grid_minor_linewidth=0.3) # set_grid must be after set_axis_scale for some reason (at least with 'log')\n",
    "#f.set_grid(         ax_inset, grid_major_on=True, grid_major_linewidth=0.7, grid_minor_on=grid_minor, grid_minor_linewidth=0.3) # set_grid must be after set_axis_scale for some reason (at least with 'log')\n",
    "f.set_legend(       axs, legend_on=legend_on, alpha=1.0, location='best')\n",
    "f.align_labels(fig)\n",
    "f.set_layout_tight(fig)\n",
    "\n",
    "f.set_title(\"Passivation of Cu in the I-cell\")\n",
    "#mark_inset(axs, ax_inset, loc1=2, loc2=1, facecolor=\"none\", edgecolor=\"0.05\", linewidth=0.95, zorder=101)# draw a bbox of the region of the inset axes in the parent axes and connecting lines between the bbox and the inset axes area\n",
    "\n",
    "PDF_path_passivation_Icell= \"C:\\\\SUMMER-JOB-2024-MATERIALS-PHYSICS\\\\PYTHON\\\\Plot I-cell data from Master thesis\\\\Plots\\\\\"+ \"I-cell_passivatoin-curves_\" + get_current_date_and_time_as_ISO8601_string() + '.pdf'\n",
    "f.export_figure_as_pdf(PDF_path_passivation_Icell)\n",
    "plt.show()"
   ]
  },
  {
   "cell_type": "code",
   "execution_count": null,
   "metadata": {},
   "outputs": [],
   "source": []
  },
  {
   "cell_type": "code",
   "execution_count": null,
   "metadata": {},
   "outputs": [],
   "source": []
  },
  {
   "cell_type": "code",
   "execution_count": null,
   "metadata": {},
   "outputs": [],
   "source": []
  },
  {
   "cell_type": "code",
   "execution_count": null,
   "metadata": {},
   "outputs": [],
   "source": []
  },
  {
   "cell_type": "code",
   "execution_count": null,
   "metadata": {},
   "outputs": [],
   "source": []
  },
  {
   "cell_type": "code",
   "execution_count": null,
   "metadata": {},
   "outputs": [],
   "source": []
  },
  {
   "cell_type": "code",
   "execution_count": null,
   "metadata": {},
   "outputs": [],
   "source": []
  },
  {
   "cell_type": "code",
   "execution_count": null,
   "metadata": {},
   "outputs": [],
   "source": []
  },
  {
   "cell_type": "code",
   "execution_count": null,
   "metadata": {},
   "outputs": [],
   "source": []
  },
  {
   "cell_type": "code",
   "execution_count": null,
   "metadata": {},
   "outputs": [],
   "source": []
  },
  {
   "cell_type": "code",
   "execution_count": null,
   "metadata": {},
   "outputs": [],
   "source": []
  }
 ],
 "metadata": {
  "kernelspec": {
   "display_name": "Python 3",
   "language": "python",
   "name": "python3"
  },
  "language_info": {
   "codemirror_mode": {
    "name": "ipython",
    "version": 3
   },
   "file_extension": ".py",
   "mimetype": "text/x-python",
   "name": "python",
   "nbconvert_exporter": "python",
   "pygments_lexer": "ipython3",
   "version": "3.12.1"
  }
 },
 "nbformat": 4,
 "nbformat_minor": 2
}
